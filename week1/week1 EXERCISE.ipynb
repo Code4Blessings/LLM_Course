{
 "cells": [
  {
   "cell_type": "markdown",
   "id": "fe12c203-e6a6-452c-a655-afb8a03a4ff5",
   "metadata": {},
   "source": [
    "# End of week 1 exercise\n",
    "\n",
    "To demonstrate your familiarity with OpenAI API, and also Ollama, build a tool that takes a technical question,  \n",
    "and responds with an explanation. This is a tool that you will be able to use yourself during the course!"
   ]
  },
  {
   "cell_type": "code",
   "execution_count": 1,
   "id": "c1070317-3ed9-4659-abe3-828943230e03",
   "metadata": {},
   "outputs": [],
   "source": [
    "# imports\n",
    "\n",
    "import os\n",
    "import requests\n",
    "from dotenv import load_dotenv\n",
    "from bs4 import BeautifulSoup\n",
    "from IPython.display import Markdown, display\n",
    "from openai import OpenAI"
   ]
  },
  {
   "cell_type": "code",
   "execution_count": 9,
   "id": "4a456906-915a-4bfd-bb9d-57e505c5093f",
   "metadata": {},
   "outputs": [],
   "source": [
    "# constants\n",
    "\n",
    "MODEL_GPT = 'gpt-4o-mini'\n",
    "MODEL_LLAMA = 'llama3.2'\n",
    "OLLAMA_API = \"http://localhost:11434/api/chat\"\n",
    "HEADERS = {\"Content-Type\": \"application/json\"}\n"
   ]
  },
  {
   "cell_type": "code",
   "execution_count": 5,
   "id": "a8d7923c-5f28-4c30-8556-342d7c8497c1",
   "metadata": {},
   "outputs": [
    {
     "name": "stdout",
     "output_type": "stream",
     "text": [
      "API key found and looks good so far!\n"
     ]
    }
   ],
   "source": [
    "# set up environment\n",
    "\n",
    "load_dotenv(override=True)\n",
    "api_key = os.getenv('OPENAI_API_KEY')\n",
    "\n",
    "# Check the key\n",
    "\n",
    "if not api_key:\n",
    "    print(\"No API key was found - please head over to the troubleshooting notebook in this folder to identify & fix!\")\n",
    "elif not api_key.startswith(\"sk-proj-\"):\n",
    "    print(\"An API key was found, but it doesn't start sk-proj-; please check you're using the right key - see troubleshooting notebook\")\n",
    "elif api_key.strip() != api_key:\n",
    "    print(\"An API key was found, but it looks like it might have space or tab characters at the start or end - please remove them - see troubleshooting notebook\")\n",
    "else:\n",
    "    print(\"API key found and looks good so far!\")\n"
   ]
  },
  {
   "cell_type": "code",
   "execution_count": 6,
   "id": "3f0d0137-52b0-47a8-81a8-11a90a010798",
   "metadata": {},
   "outputs": [],
   "source": [
    "# here is the question; type over this to ask something new\n",
    "\n",
    "question = \"\"\"\n",
    "Please explain what this code does and why:\n",
    "yield from {book.get(\"author\") for book in books if book.get(\"author\")}\n",
    "\"\"\""
   ]
  },
  {
   "cell_type": "code",
   "execution_count": 8,
   "id": "60ce7000-a4a5-4cce-a261-e75ef45063b4",
   "metadata": {},
   "outputs": [
    {
     "name": "stdout",
     "output_type": "stream",
     "text": [
      "This line of code uses the `yield from` keyword in Python, which is typically used in a generator function to yield values from another iterable. Let's break down what this specific line does:\n",
      "\n",
      "```python\n",
      "yield from {book.get(\"author\") for book in books if book.get(\"author\")}\n",
      "```\n",
      "\n",
      "### Detailed Breakdown\n",
      "\n",
      "1. **Set Comprehension**: \n",
      "   - `{book.get(\"author\") for book in books if book.get(\"author\")}` is a set comprehension.\n",
      "   - This iterates over a collection called `books`, which we can assume is probably a list or any iterable of dictionaries (where each dictionary represents a book).\n",
      "   - For each `book` in `books`, it calls `book.get(\"author\")`, which retrieves the value associated with the key `\"author\"` if it exists.\n",
      "   - The condition `if book.get(\"author\")` ensures that only books with a defined author will be included. If a book does not have an author (i.e., `book.get(\"author\")` returns `None` or an empty string), it will be skipped.\n",
      "\n",
      "2. **Set**: \n",
      "   - The curly braces `{}` denote that this is a set comprehension. This means that the resulting collection will be a set of authors.\n",
      "   - Using a set automatically handles duplicates, meaning if multiple books by the same author are present, that author will only appear once in the final output.\n",
      "\n",
      "3. **Yielding**:\n",
      "   - The `yield from` is used to yield each element from the resulting set of authors. Essentially, the generator will yield one author at a time from the set as it's iterated over.\n",
      "   - This is useful in generator functions because it allows the function to produce a sequence of values (in this case, the unique authors) without having to create a separate list or data structure to store them all first.\n",
      "\n",
      "### Why Use This Code?\n",
      "\n",
      "- **Uniqueness**: By collecting authors in a set, this code ensures that each author is unique in the output.\n",
      "- **Lazy Evaluation**: Using `yield from` means this is part of a generator, which allows for lazy evaluation. Values will only be computed as needed, which is memory efficient compared to creating a list of all authors at once.\n",
      "- **Readability**: The code is concise and clearly conveys its intention to extract and yield unique authors from a collection of books.\n",
      "\n",
      "In summary, this line of code extracts unique authors from a list of book dictionaries and yields them one at a time.\n"
     ]
    }
   ],
   "source": [
    "# Get gpt-4o-mini to answer, with streaming\n",
    "openai = OpenAI()\n",
    "\n",
    "response = openai.chat.completions.create(model= MODEL_GPT, messages=[{\"role\":\"user\", \"content\":question}])\n",
    "print(response.choices[0].message.content)"
   ]
  },
  {
   "cell_type": "code",
   "execution_count": null,
   "id": "8f7c8ea8-4082-4ad0-8751-3301adcf6538",
   "metadata": {},
   "outputs": [],
   "source": [
    "# Get Llama 3.2 to answer\n",
    "\n"
   ]
  }
 ],
 "metadata": {
  "kernelspec": {
   "display_name": "Python 3 (ipykernel)",
   "language": "python",
   "name": "python3"
  },
  "language_info": {
   "codemirror_mode": {
    "name": "ipython",
    "version": 3
   },
   "file_extension": ".py",
   "mimetype": "text/x-python",
   "name": "python",
   "nbconvert_exporter": "python",
   "pygments_lexer": "ipython3",
   "version": "3.11.12"
  }
 },
 "nbformat": 4,
 "nbformat_minor": 5
}
