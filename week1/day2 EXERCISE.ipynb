{
 "cells": [
  {
   "cell_type": "markdown",
   "id": "d15d8294-3328-4e07-ad16-8a03e9bbfdb9",
   "metadata": {},
   "source": [
    "# \n",
    "Welcome to your first assignment!\n",
    "\n",
    "Instructions are below. Please give this a try, and look in the solutions folder if you get stuck (or feel free to ask me!)"
   ]
  },
  {
   "cell_type": "markdown",
   "id": "ada885d9-4d42-4d9b-97f0-74fbbbfe93a9",
   "metadata": {},
   "source": [
    "<table style=\"margin: 0; text-align: left;\">\n",
    "    <tr>\n",
    "        <td style=\"width: 150px; height: 150px; vertical-align: middle;\">\n",
    "            <img src=\"../resources.jpg\" width=\"150\" height=\"150\" style=\"display: block;\" />\n",
    "        </td>\n",
    "        <td>\n",
    "            <h2 style=\"color:#f71;\">Just before we get to the assignment --</h2>\n",
    "            <span style=\"color:#f71;\">I thought I'd take a second to point you at this page of useful resources for the course. This includes links to all the slides.<br/>\n",
    "            <a href=\"https://edwarddonner.com/2024/11/13/llm-engineering-resources/\">https://edwarddonner.com/2024/11/13/llm-engineering-resources/</a><br/>\n",
    "            Please keep this bookmarked, and I'll continue to add more useful links there over time.\n",
    "            </span>\n",
    "        </td>\n",
    "    </tr>\n",
    "</table>"
   ]
  },
  {
   "cell_type": "markdown",
   "id": "6e9fa1fc-eac5-4d1d-9be4-541b3f2b3458",
   "metadata": {},
   "source": [
    "# HOMEWORK EXERCISE ASSIGNMENT\n",
    "\n",
    "Upgrade the day 1 project to summarize a webpage to use an Open Source model running locally via Ollama rather than OpenAI\n",
    "\n",
    "You'll be able to use this technique for all subsequent projects if you'd prefer not to use paid APIs.\n",
    "\n",
    "**Benefits:**\n",
    "1. No API charges - open-source\n",
    "2. Data doesn't leave your box\n",
    "\n",
    "**Disadvantages:**\n",
    "1. Significantly less power than Frontier Model\n",
    "\n",
    "## Recap on installation of Ollama\n",
    "\n",
    "Simply visit [ollama.com](https://ollama.com) and install!\n",
    "\n",
    "Once complete, the ollama server should already be running locally.  \n",
    "If you visit:  \n",
    "[http://localhost:11434/](http://localhost:11434/)\n",
    "\n",
    "You should see the message `Ollama is running`.  \n",
    "\n",
    "If not, bring up a new Terminal (Mac) or Powershell (Windows) and enter `ollama serve`  \n",
    "And in another Terminal (Mac) or Powershell (Windows), enter `ollama pull llama3.2`  \n",
    "Then try [http://localhost:11434/](http://localhost:11434/) again.\n",
    "\n",
    "If Ollama is slow on your machine, try using `llama3.2:1b` as an alternative. Run `ollama pull llama3.2:1b` from a Terminal or Powershell, and change the code below from `MODEL = \"llama3.2\"` to `MODEL = \"llama3.2:1b\"`"
   ]
  },
  {
   "cell_type": "code",
   "execution_count": 5,
   "id": "4e2a9393-7767-488e-a8bf-27c12dca35bd",
   "metadata": {},
   "outputs": [],
   "source": [
    "# imports\n",
    "import requests\n",
    "from bs4 import BeautifulSoup\n",
    "from IPython.display import Markdown, display"
   ]
  },
  {
   "cell_type": "code",
   "execution_count": 6,
   "id": "29ddd15d-a3c5-4f4e-a678-873f56162724",
   "metadata": {},
   "outputs": [],
   "source": [
    "# Constants\n",
    "\n",
    "OLLAMA_API = \"http://localhost:11434/api/chat\"\n",
    "HEADERS = {\"Content-Type\": \"application/json\"}\n",
    "MODEL = \"llama3.2\""
   ]
  },
  {
   "cell_type": "code",
   "execution_count": 7,
   "id": "dac0a679-599c-441f-9bf2-ddc73d35b940",
   "metadata": {},
   "outputs": [],
   "source": [
    "# Create a messages list using the same format that we used for OpenAI\n",
    "\n",
    "messages = [\n",
    "    {\"role\": \"user\", \"content\": \"Describe some of the business applications of Generative AI\"}\n",
    "]"
   ]
  },
  {
   "cell_type": "code",
   "execution_count": 8,
   "id": "7bb9c624-14f0-4945-a719-8ddb64f66f47",
   "metadata": {},
   "outputs": [],
   "source": [
    "payload = {\n",
    "        \"model\": MODEL,\n",
    "        \"messages\": messages,\n",
    "        \"stream\": False\n",
    "    }"
   ]
  },
  {
   "cell_type": "code",
   "execution_count": 9,
   "id": "479ff514-e8bd-4985-a572-2ea28bb4fa40",
   "metadata": {},
   "outputs": [
    {
     "name": "stdout",
     "output_type": "stream",
     "text": [
      "\u001b[?2026h\u001b[?25l\u001b[1Gpulling manifest ⠋ \u001b[K\u001b[?25h\u001b[?2026l\u001b[?2026h\u001b[?25l\u001b[1Gpulling manifest ⠙ \u001b[K\u001b[?25h\u001b[?2026l\u001b[?2026h\u001b[?25l\u001b[1Gpulling manifest ⠹ \u001b[K\u001b[?25h\u001b[?2026l\u001b[?2026h\u001b[?25l\u001b[1Gpulling manifest \u001b[K\n",
      "pulling dde5aa3fc5ff: 100% ▕██████████████████▏ 2.0 GB                         \u001b[K\n",
      "pulling 966de95ca8a6: 100% ▕██████████████████▏ 1.4 KB                         \u001b[K\n",
      "pulling fcc5a6bec9da: 100% ▕██████████████████▏ 7.7 KB                         \u001b[K\n",
      "pulling a70ff7e570d9: 100% ▕██████████████████▏ 6.0 KB                         \u001b[K\n",
      "pulling 56bb8bd477a5: 100% ▕██████████████████▏   96 B                         \u001b[K\n",
      "pulling 34bb5ab01051: 100% ▕██████████████████▏  561 B                         \u001b[K\n",
      "verifying sha256 digest \u001b[K\n",
      "writing manifest \u001b[K\n",
      "success \u001b[K\u001b[?25h\u001b[?2026l\n"
     ]
    }
   ],
   "source": [
    "# Let's just make sure the model is loaded\n",
    "\n",
    "!ollama pull llama3.2"
   ]
  },
  {
   "cell_type": "code",
   "execution_count": 10,
   "id": "42b9f644-522d-4e05-a691-56e7658c0ea9",
   "metadata": {},
   "outputs": [
    {
     "name": "stdout",
     "output_type": "stream",
     "text": [
      "Generative AI has numerous business applications across various industries, including:\n",
      "\n",
      "1. **Content Generation**: AI-powered tools can generate high-quality content such as articles, social media posts, product descriptions, and more. This helps reduce the time and cost associated with content creation, allowing businesses to focus on other areas.\n",
      "2. **Marketing Automation**: Generative AI can create personalized marketing campaigns, email templates, and ad copy, increasing the efficiency of marketing teams and improving conversion rates.\n",
      "3. **Product Design and Development**: AI-powered tools can generate 3D models, product designs, and prototypes, streamlining the product development process and reducing design costs.\n",
      "4. **Customer Service Chatbots**: Generative AI can power conversational chatbots that provide personalized customer support, helping businesses respond to customer inquiries in a timely and effective manner.\n",
      "5. **Data Analysis and Visualization**: AI-powered tools can analyze large datasets, identify patterns, and generate visualizations, providing insights that can inform business decisions.\n",
      "6. **Music and Audio Generation**: Generative AI can create original music tracks, sound effects, and audio loops, which can be used in various applications such as film, television, and video games.\n",
      "7. **Image and Video Editing**: AI-powered tools can edit images and videos, removing noise, repairing damaged footage, and even generating new content, such as composite images or special effects.\n",
      "8. **Language Translation**: Generative AI can translate text from one language to another, breaking down language barriers and enabling businesses to reach a global audience.\n",
      "9. **Predictive Maintenance**: AI-powered tools can analyze equipment and predict when maintenance is required, reducing downtime and increasing overall efficiency.\n",
      "10. **Financial Analysis and Predictions**: Generative AI can analyze financial data, identify trends, and make predictions about future market movements, helping businesses make informed investment decisions.\n",
      "\n",
      "Some specific business applications of generative AI include:\n",
      "\n",
      "* **Content creation platforms**: Companies like Content Blossom and Article Forge use generative AI to create high-quality content.\n",
      "* **Marketing automation tools**: Tools like HubSpot's Content Studio and Marketo's Content Builder use generative AI to create personalized marketing campaigns.\n",
      "* **Product design software**: Software like Autodesk's Dreambook and Fusion 360 uses generative AI to generate 3D models and product designs.\n",
      "* **Customer service chatbots**: Companies like IBM Watson Assistant and Microsoft Bot Framework use generative AI to power conversational chatbots.\n",
      "\n",
      "These are just a few examples of the many business applications of generative AI. As the technology continues to evolve, we can expect to see even more innovative uses across various industries.\n"
     ]
    }
   ],
   "source": [
    "# If this doesn't work for any reason, try the 2 versions in the following cells\n",
    "# And double check the instructions in the 'Recap on installation of Ollama' at the top of this lab\n",
    "# And if none of that works - contact me!\n",
    "\n",
    "response = requests.post(OLLAMA_API, json=payload, headers=HEADERS)\n",
    "print(response.json()['message']['content'])"
   ]
  },
  {
   "cell_type": "markdown",
   "id": "6a021f13-d6a1-4b96-8e18-4eae49d876fe",
   "metadata": {},
   "source": [
    "# Introducing the ollama package\n",
    "\n",
    "And now we'll do the same thing, but using the elegant ollama python package instead of a direct HTTP call.\n",
    "\n",
    "Under the hood, it's making the same call as above to the ollama server running at localhost:11434"
   ]
  },
  {
   "cell_type": "code",
   "execution_count": 11,
   "id": "7745b9c4-57dc-4867-9180-61fa5db55eb8",
   "metadata": {},
   "outputs": [
    {
     "name": "stdout",
     "output_type": "stream",
     "text": [
      "Generative AI has numerous business applications across various industries. Here are some examples:\n",
      "\n",
      "1. **Content Creation**: Generative AI can be used to generate high-quality content such as blog posts, social media posts, product descriptions, and more. This can help businesses save time and resources on content creation.\n",
      "2. **Marketing Automation**: Generative AI can be used to create personalized marketing campaigns, including email templates, ad copy, and product recommendations.\n",
      "3. **Customer Service Chatbots**: Generative AI-powered chatbots can provide 24/7 customer support, answering common queries and routing complex issues to human representatives.\n",
      "4. **Product Design**: Generative AI can be used to design new products, such as furniture, clothing, and accessories, by generating 2D and 3D designs based on user input and preferences.\n",
      "5. **Supply Chain Optimization**: Generative AI can help optimize supply chain operations by predicting demand, identifying bottlenecks, and recommending inventory management strategies.\n",
      "6. **Financial Analysis**: Generative AI can be used to analyze financial data, identify trends, and predict market fluctuations, helping businesses make more informed investment decisions.\n",
      "7. **Human Resources**: Generative AI can be used to optimize HR processes, such as talent acquisition, employee onboarding, and performance evaluations.\n",
      "8. **Product Recommendation Engines**: Generative AI-powered product recommendation engines can provide personalized product suggestions based on user behavior and preferences.\n",
      "9. **Language Translation**: Generative AI can be used to translate languages in real-time, helping businesses communicate with global customers and partners.\n",
      "10. **Data Analysis**: Generative AI can be used to analyze large datasets, identifying patterns and trends that may not be visible to human analysts.\n",
      "\n",
      "Some specific business use cases for Generative AI include:\n",
      "\n",
      "* **Amazon's Product Recommendations**: Amazon uses Generative AI to provide personalized product recommendations based on user behavior and preferences.\n",
      "* **Google's Ad Placement**: Google uses Generative AI to optimize ad placement, ensuring that the most relevant ads are displayed to users at the right time.\n",
      "* **Netflix's Content Curation**: Netflix uses Generative AI to recommend content to users based on their viewing history and preferences.\n",
      "* **BMW's Autonomous Vehicle Design**: BMW uses Generative AI to design autonomous vehicle concepts, optimizing performance, efficiency, and aesthetics.\n",
      "\n",
      "These are just a few examples of the many business applications of Generative AI. As the technology continues to evolve, we can expect to see even more innovative use cases across various industries.\n"
     ]
    }
   ],
   "source": [
    "import ollama\n",
    "\n",
    "response = ollama.chat(model=MODEL, messages=messages)\n",
    "print(response['message']['content'])"
   ]
  },
  {
   "cell_type": "markdown",
   "id": "a4704e10-f5fb-4c15-a935-f046c06fb13d",
   "metadata": {},
   "source": [
    "## Alternative approach - using OpenAI python library to connect to Ollama"
   ]
  },
  {
   "cell_type": "code",
   "execution_count": null,
   "id": "23057e00-b6fc-4678-93a9-6b31cb704bff",
   "metadata": {},
   "outputs": [],
   "source": [
    "# There's actually an alternative approach that some people might prefer\n",
    "# You can use the OpenAI client python library to call Ollama:\n",
    "\n",
    "from openai import OpenAI\n",
    "ollama_via_openai = OpenAI(base_url='http://localhost:11434/v1', api_key='ollama')\n",
    "\n",
    "response = ollama_via_openai.chat.completions.create(\n",
    "    model=MODEL,\n",
    "    messages=messages\n",
    ")\n",
    "\n",
    "print(response.choices[0].message.content)"
   ]
  },
  {
   "cell_type": "markdown",
   "id": "9f9e22da-b891-41f6-9ac9-bd0c0a5f4f44",
   "metadata": {},
   "source": [
    "## Are you confused about why that works?\n",
    "\n",
    "It seems strange, right? We just used OpenAI code to call Ollama?? What's going on?!\n",
    "\n",
    "Here's the scoop:\n",
    "\n",
    "The python class `OpenAI` is simply code written by OpenAI engineers that makes calls over the internet to an endpoint.  \n",
    "\n",
    "When you call `openai.chat.completions.create()`, this python code just makes a web request to the following url: \"https://api.openai.com/v1/chat/completions\"\n",
    "\n",
    "Code like this is known as a \"client library\" - it's just wrapper code that runs on your machine to make web requests. The actual power of GPT is running on OpenAI's cloud behind this API, not on your computer!\n",
    "\n",
    "OpenAI was so popular, that lots of other AI providers provided identical web endpoints, so you could use the same approach.\n",
    "\n",
    "So Ollama has an endpoint running on your local box at http://localhost:11434/v1/chat/completions  \n",
    "And in week 2 we'll discover that lots of other providers do this too, including Gemini and DeepSeek.\n",
    "\n",
    "And then the team at OpenAI had a great idea: they can extend their client library so you can specify a different 'base url', and use their library to call any compatible API.\n",
    "\n",
    "That's it!\n",
    "\n",
    "So when you say: `ollama_via_openai = OpenAI(base_url='http://localhost:11434/v1', api_key='ollama')`  \n",
    "Then this will make the same endpoint calls, but to Ollama instead of OpenAI."
   ]
  },
  {
   "cell_type": "markdown",
   "id": "bc7d1de3-e2ac-46ff-a302-3b4ba38c4c90",
   "metadata": {},
   "source": [
    "## Also trying the amazing reasoning model DeepSeek\n",
    "\n",
    "Here we use the version of DeepSeek-reasoner that's been distilled to 1.5B.  \n",
    "This is actually a 1.5B variant of Qwen that has been fine-tuned using synethic data generated by Deepseek R1.\n",
    "\n",
    "Other sizes of DeepSeek are [here](https://ollama.com/library/deepseek-r1) all the way up to the full 671B parameter version, which would use up 404GB of your drive and is far too large for most!"
   ]
  },
  {
   "cell_type": "code",
   "execution_count": null,
   "id": "cf9eb44e-fe5b-47aa-b719-0bb63669ab3d",
   "metadata": {},
   "outputs": [],
   "source": [
    "!ollama pull deepseek-r1:1.5b"
   ]
  },
  {
   "cell_type": "code",
   "execution_count": null,
   "id": "1d3d554b-e00d-4c08-9300-45e073950a76",
   "metadata": {},
   "outputs": [],
   "source": [
    "# This may take a few minutes to run! You should then see a fascinating \"thinking\" trace inside <think> tags, followed by some decent definitions\n",
    "\n",
    "response = ollama_via_openai.chat.completions.create(\n",
    "    model=\"deepseek-r1:1.5b\",\n",
    "    messages=[{\"role\": \"user\", \"content\": \"Please give definitions of some core concepts behind LLMs: a neural network, attention and the transformer\"}]\n",
    ")\n",
    "\n",
    "print(response.choices[0].message.content)"
   ]
  },
  {
   "cell_type": "markdown",
   "id": "1622d9bb-5c68-4d4e-9ca4-b492c751f898",
   "metadata": {},
   "source": [
    "# NOW the exercise for you\n",
    "\n",
    "Take the code from day1 and incorporate it here, to build a website summarizer that uses Llama 3.2 running locally instead of OpenAI; use either of the above approaches."
   ]
  },
  {
   "cell_type": "code",
   "execution_count": 1,
   "id": "76254e0d-d918-465f-9333-c0270c2e9d54",
   "metadata": {},
   "outputs": [],
   "source": [
    "import os\n",
    "import requests\n",
    "import ollama \n",
    "from dotenv import load_dotenv\n",
    "from bs4 import BeautifulSoup\n",
    "from IPython.display import Markdown, display\n",
    "\n"
   ]
  },
  {
   "cell_type": "code",
   "execution_count": 2,
   "id": "66a1543d-723b-4e33-ba1d-e0e6d37ab946",
   "metadata": {},
   "outputs": [],
   "source": [
    "# Constants\n",
    "\n",
    "OLLAMA_API = \"http://localhost:11434/api/chat\"\n",
    "HEADERS = {\"Content-Type\": \"application/json\"}\n",
    "MODEL = \"llama3.2\""
   ]
  },
  {
   "cell_type": "code",
   "execution_count": 3,
   "id": "d8b94c4b-fffc-46f4-9bd1-ec4b7bd3b044",
   "metadata": {},
   "outputs": [],
   "source": [
    "# A class to represent a Webpage\n",
    "# If you're not familiar with Classes, check out the \"Intermediate Python\" notebook\n",
    "\n",
    "# Some websites need you to use proper headers when fetching them:\n",
    "headers = {\n",
    " \"User-Agent\": \"Mozilla/5.0 (Windows NT 10.0; Win64; x64) AppleWebKit/537.36 (KHTML, like Gecko) Chrome/117.0.0.0 Safari/537.36\"\n",
    "}\n",
    "\n",
    "class Website:\n",
    "\n",
    "    def __init__(self, url):\n",
    "        \"\"\"\n",
    "        Create this Website object from the given url using the BeautifulSoup library\n",
    "        \"\"\"\n",
    "        self.url = url\n",
    "        response = requests.get(url, headers=headers)\n",
    "        soup = BeautifulSoup(response.content, 'html.parser')\n",
    "        self.title = soup.title.string if soup.title else \"No title found\"\n",
    "        for irrelevant in soup.body([\"script\", \"style\", \"img\", \"input\"]):\n",
    "            irrelevant.decompose()\n",
    "        self.text = soup.body.get_text(separator=\"\\n\", strip=True)"
   ]
  },
  {
   "cell_type": "code",
   "execution_count": 9,
   "id": "22ff3412-de8d-440f-8a39-b478758d1c0c",
   "metadata": {},
   "outputs": [
    {
     "name": "stdout",
     "output_type": "stream",
     "text": [
      "About\n",
      "Home\n",
      "About Me\n",
      "Tech Skills\n",
      "My Work\n",
      "How To Reach Me\n",
      "About\n",
      "Me\n",
      "Let’s get acquainted — here’s a quick look at who I am and what I bring to the table.\n",
      "BIO\n",
      "I’m Robin Warden — a Software Engineer, Frontend & API Developer, and AI Automation Enthusiast passionate about building purposeful tools that solve real-world problems. With a strong foundation in full stack development and a growing expertise in AI-driven solutions, I design and deploy efficient frontends, scalable APIs, and automated workflows. Whether I’m streamlining email marketing with MailerLite, building landing pages, or using AI tools to accelerate design and content creation, I bring creativity, clarity, and precision to every project I touch.\n",
      "🔹 Software Engineer\n",
      "I design and build full-stack applications that solve real-world problems using modern development tools. With expertise in JavaScript, React.js, and Node.js, I focus on writing clean, efficient, and scalable code. My experience includes testing with Jest and React Testing Library, working with GraphQL APIs, and managing data using SQL/NoSQL databases. I approach development with a strong foundation in data structures, performance, and user-focused architecture.\n",
      "🔹 Frontend & API Developer\n",
      "As a Frontend and API Developer, I create seamless user experiences backed by powerful backends. On the frontend, I build responsive interfaces using React, Sass, and CSS frameworks like Bootstrap. On the backend, I develop RESTful and GraphQL APIs using Node.js and Express. My work includes integrating third-party services, managing authentication flows, and building scalable endpoints that connect clients to data in meaningful, secure ways.\n",
      "🔹 AI Automation Enthusiast\n",
      "I’m passionate about using AI tools to streamline workflows and enhance digital content creation. Through my business, Code4Serenity, I’ve designed automated email marketing campaigns with MailerLite, built dynamic landing pages, and leveraged image-generation AI to assist in creating print-ready coloring books. I actively explore automation platforms to boost productivity and apply them to both creative and technical challenges.\n",
      "Copyright © May 2025 | Images provided by unsplash.com and pexels.com\n"
     ]
    }
   ],
   "source": [
    "robin = Website(\"https://www.robin-warden.com/about\")\n",
    "print(robin.title)\n",
    "print(robin.text)"
   ]
  },
  {
   "cell_type": "code",
   "execution_count": 10,
   "id": "1b2905db-8915-4fe2-b4d7-539bd735ce33",
   "metadata": {},
   "outputs": [],
   "source": [
    "def user_prompt_for(website):\n",
    "    user_prompt = f\"You are looking at a website titled {website.title}\"\n",
    "    user_prompt += \"\\nThe contents of this website is as follows; \\\n",
    "please provide a short summary of this website in markdown. \\\n",
    "If it includes news or announcements, then summarize these too.\\n\\n\"\n",
    "    user_prompt += website.text\n",
    "    return user_prompt"
   ]
  },
  {
   "cell_type": "code",
   "execution_count": 11,
   "id": "3ec744d6-3236-4d7f-9760-81ff5787170f",
   "metadata": {},
   "outputs": [
    {
     "name": "stdout",
     "output_type": "stream",
     "text": [
      "You are looking at a website titled About\n",
      "The contents of this website is as follows; please provide a short summary of this website in markdown. If it includes news or announcements, then summarize these too.\n",
      "\n",
      "Home\n",
      "About Me\n",
      "Tech Skills\n",
      "My Work\n",
      "How To Reach Me\n",
      "About\n",
      "Me\n",
      "Let’s get acquainted — here’s a quick look at who I am and what I bring to the table.\n",
      "BIO\n",
      "I’m Robin Warden — a Software Engineer, Frontend & API Developer, and AI Automation Enthusiast passionate about building purposeful tools that solve real-world problems. With a strong foundation in full stack development and a growing expertise in AI-driven solutions, I design and deploy efficient frontends, scalable APIs, and automated workflows. Whether I’m streamlining email marketing with MailerLite, building landing pages, or using AI tools to accelerate design and content creation, I bring creativity, clarity, and precision to every project I touch.\n",
      "🔹 Software Engineer\n",
      "I design and build full-stack applications that solve real-world problems using modern development tools. With expertise in JavaScript, React.js, and Node.js, I focus on writing clean, efficient, and scalable code. My experience includes testing with Jest and React Testing Library, working with GraphQL APIs, and managing data using SQL/NoSQL databases. I approach development with a strong foundation in data structures, performance, and user-focused architecture.\n",
      "🔹 Frontend & API Developer\n",
      "As a Frontend and API Developer, I create seamless user experiences backed by powerful backends. On the frontend, I build responsive interfaces using React, Sass, and CSS frameworks like Bootstrap. On the backend, I develop RESTful and GraphQL APIs using Node.js and Express. My work includes integrating third-party services, managing authentication flows, and building scalable endpoints that connect clients to data in meaningful, secure ways.\n",
      "🔹 AI Automation Enthusiast\n",
      "I’m passionate about using AI tools to streamline workflows and enhance digital content creation. Through my business, Code4Serenity, I’ve designed automated email marketing campaigns with MailerLite, built dynamic landing pages, and leveraged image-generation AI to assist in creating print-ready coloring books. I actively explore automation platforms to boost productivity and apply them to both creative and technical challenges.\n",
      "Copyright © May 2025 | Images provided by unsplash.com and pexels.com\n"
     ]
    }
   ],
   "source": [
    "print(user_prompt_for(robin))"
   ]
  },
  {
   "cell_type": "code",
   "execution_count": 17,
   "id": "aaaef3b8-868c-49af-b8b8-c58bca7431db",
   "metadata": {},
   "outputs": [
    {
     "name": "stdout",
     "output_type": "stream",
     "text": [
      "Here is a summary of the website in markdown:\n",
      "\n",
      "# About Me\n",
      "## Introduction\n",
      "Robin Warden introduces himself as a Software Engineer, Frontend & API Developer, and AI Automation Enthusiast with a passion for building purposeful tools that solve real-world problems.\n",
      "\n",
      "### Skills\n",
      "\n",
      "* **Software Engineer**\n",
      "\t+ Full-stack development using modern tools\n",
      "\t+ Expertise in JavaScript, React.js, and Node.js\n",
      "\t+ Experience with testing frameworks (Jest), GraphQL APIs, and data management (SQL/NoSQL databases)\n",
      "* **Frontend & API Developer**\n",
      "\t+ Creating seamless user experiences with powerful backends\n",
      "\t+ Building responsive interfaces using React, Sass, and CSS frameworks like Bootstrap\n",
      "\t+ Developing RESTful and GraphQL APIs using Node.js and Express\n",
      "* **AI Automation Enthusiast**\n",
      "\t+ Streamlining workflows and enhancing digital content creation with AI tools\n",
      "\t+ Designing automated email marketing campaigns, building dynamic landing pages, and leveraging image-generation AI\n",
      "\n",
      "### Recent Projects/Activities\n",
      "No specific projects or announcements are mentioned on the website. However, Robin Warden mentions his business, Code4Serenity, which he uses to design and build automated email marketing campaigns, build dynamic landing pages, and leverage image-generation AI.\n",
      "\n",
      "### Contact Information\n",
      "Robin Warden invites users to get acquainted with him and reach out through his contact information provided on the website.\n"
     ]
    }
   ],
   "source": [
    "prompt = user_prompt_for(robin)\n",
    "response = requests.post(\n",
    "    \"http://localhost:11434/api/generate\",\n",
    "    json={\"model\": \"llama3.2\", \"prompt\": prompt, \"stream\": False}\n",
    ")\n",
    "summary = response.json()[\"response\"].strip()\n",
    "print(summary)\n"
   ]
  },
  {
   "cell_type": "code",
   "execution_count": 20,
   "id": "5249b55d-10ef-4da5-a115-862ed732f501",
   "metadata": {},
   "outputs": [],
   "source": [
    "def display_markdown_summary(summary: str):\n",
    "    display(Markdown(summary))"
   ]
  },
  {
   "cell_type": "code",
   "execution_count": null,
   "id": "b9e5339e-94e9-4890-b537-4450e7a68ed9",
   "metadata": {},
   "outputs": [],
   "source": []
  },
  {
   "cell_type": "code",
   "execution_count": null,
   "id": "caea9f2d-6227-4271-90de-85382ad24558",
   "metadata": {},
   "outputs": [],
   "source": []
  }
 ],
 "metadata": {
  "kernelspec": {
   "display_name": "Python 3 (ipykernel)",
   "language": "python",
   "name": "python3"
  },
  "language_info": {
   "codemirror_mode": {
    "name": "ipython",
    "version": 3
   },
   "file_extension": ".py",
   "mimetype": "text/x-python",
   "name": "python",
   "nbconvert_exporter": "python",
   "pygments_lexer": "ipython3",
   "version": "3.11.12"
  }
 },
 "nbformat": 4,
 "nbformat_minor": 5
}
